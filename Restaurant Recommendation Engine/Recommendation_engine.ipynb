{
 "cells": [
  {
   "cell_type": "code",
   "execution_count": 1,
   "metadata": {},
   "outputs": [],
   "source": [
    "import tkinter as tk\n",
    "from tkinter import ttk\n",
    "from sklearn.ensemble import RandomForestClassifier\n",
    "import numpy as np\n",
    "import pandas as pd"
   ]
  },
  {
   "cell_type": "code",
   "execution_count": 2,
   "metadata": {},
   "outputs": [],
   "source": [
    "# Defining the dummy dataset\n",
    "num_samples = 1000\n",
    "data = {\n",
    "    'vegetarian': np.random.randint(0, 2, size=num_samples),\n",
    "    'gluten_free': np.random.randint(0, 2, size=num_samples),\n",
    "    'fast_food': np.random.randint(0, 2, size=num_samples),\n",
    "    'immersive_theme': np.random.randint(0, 2, size=num_samples),\n",
    "    'lively_atmosphere': np.random.randint(0, 2, size=num_samples),\n",
    "    'label': np.random.choice(['Cosmic Ray\\'s Starlight Café', 'Columbia Harbour House', 'Friar’s Nook',\n",
    "                               'Aloha Isle', 'Be Our Guest Restaurant', 'The Crystal Palace',\n",
    "                               'The Plaza Restaurant', 'Cinderella’s Royal Table'], size=num_samples)\n",
    "}"
   ]
  },
  {
   "cell_type": "code",
   "execution_count": 3,
   "metadata": {},
   "outputs": [
    {
     "data": {
      "text/html": [
       "<style>#sk-container-id-1 {color: black;background-color: white;}#sk-container-id-1 pre{padding: 0;}#sk-container-id-1 div.sk-toggleable {background-color: white;}#sk-container-id-1 label.sk-toggleable__label {cursor: pointer;display: block;width: 100%;margin-bottom: 0;padding: 0.3em;box-sizing: border-box;text-align: center;}#sk-container-id-1 label.sk-toggleable__label-arrow:before {content: \"▸\";float: left;margin-right: 0.25em;color: #696969;}#sk-container-id-1 label.sk-toggleable__label-arrow:hover:before {color: black;}#sk-container-id-1 div.sk-estimator:hover label.sk-toggleable__label-arrow:before {color: black;}#sk-container-id-1 div.sk-toggleable__content {max-height: 0;max-width: 0;overflow: hidden;text-align: left;background-color: #f0f8ff;}#sk-container-id-1 div.sk-toggleable__content pre {margin: 0.2em;color: black;border-radius: 0.25em;background-color: #f0f8ff;}#sk-container-id-1 input.sk-toggleable__control:checked~div.sk-toggleable__content {max-height: 200px;max-width: 100%;overflow: auto;}#sk-container-id-1 input.sk-toggleable__control:checked~label.sk-toggleable__label-arrow:before {content: \"▾\";}#sk-container-id-1 div.sk-estimator input.sk-toggleable__control:checked~label.sk-toggleable__label {background-color: #d4ebff;}#sk-container-id-1 div.sk-label input.sk-toggleable__control:checked~label.sk-toggleable__label {background-color: #d4ebff;}#sk-container-id-1 input.sk-hidden--visually {border: 0;clip: rect(1px 1px 1px 1px);clip: rect(1px, 1px, 1px, 1px);height: 1px;margin: -1px;overflow: hidden;padding: 0;position: absolute;width: 1px;}#sk-container-id-1 div.sk-estimator {font-family: monospace;background-color: #f0f8ff;border: 1px dotted black;border-radius: 0.25em;box-sizing: border-box;margin-bottom: 0.5em;}#sk-container-id-1 div.sk-estimator:hover {background-color: #d4ebff;}#sk-container-id-1 div.sk-parallel-item::after {content: \"\";width: 100%;border-bottom: 1px solid gray;flex-grow: 1;}#sk-container-id-1 div.sk-label:hover label.sk-toggleable__label {background-color: #d4ebff;}#sk-container-id-1 div.sk-serial::before {content: \"\";position: absolute;border-left: 1px solid gray;box-sizing: border-box;top: 0;bottom: 0;left: 50%;z-index: 0;}#sk-container-id-1 div.sk-serial {display: flex;flex-direction: column;align-items: center;background-color: white;padding-right: 0.2em;padding-left: 0.2em;position: relative;}#sk-container-id-1 div.sk-item {position: relative;z-index: 1;}#sk-container-id-1 div.sk-parallel {display: flex;align-items: stretch;justify-content: center;background-color: white;position: relative;}#sk-container-id-1 div.sk-item::before, #sk-container-id-1 div.sk-parallel-item::before {content: \"\";position: absolute;border-left: 1px solid gray;box-sizing: border-box;top: 0;bottom: 0;left: 50%;z-index: -1;}#sk-container-id-1 div.sk-parallel-item {display: flex;flex-direction: column;z-index: 1;position: relative;background-color: white;}#sk-container-id-1 div.sk-parallel-item:first-child::after {align-self: flex-end;width: 50%;}#sk-container-id-1 div.sk-parallel-item:last-child::after {align-self: flex-start;width: 50%;}#sk-container-id-1 div.sk-parallel-item:only-child::after {width: 0;}#sk-container-id-1 div.sk-dashed-wrapped {border: 1px dashed gray;margin: 0 0.4em 0.5em 0.4em;box-sizing: border-box;padding-bottom: 0.4em;background-color: white;}#sk-container-id-1 div.sk-label label {font-family: monospace;font-weight: bold;display: inline-block;line-height: 1.2em;}#sk-container-id-1 div.sk-label-container {text-align: center;}#sk-container-id-1 div.sk-container {/* jupyter's `normalize.less` sets `[hidden] { display: none; }` but bootstrap.min.css set `[hidden] { display: none !important; }` so we also need the `!important` here to be able to override the default hidden behavior on the sphinx rendered scikit-learn.org. See: https://github.com/scikit-learn/scikit-learn/issues/21755 */display: inline-block !important;position: relative;}#sk-container-id-1 div.sk-text-repr-fallback {display: none;}</style><div id=\"sk-container-id-1\" class=\"sk-top-container\"><div class=\"sk-text-repr-fallback\"><pre>RandomForestClassifier(random_state=42)</pre><b>In a Jupyter environment, please rerun this cell to show the HTML representation or trust the notebook. <br />On GitHub, the HTML representation is unable to render, please try loading this page with nbviewer.org.</b></div><div class=\"sk-container\" hidden><div class=\"sk-item\"><div class=\"sk-estimator sk-toggleable\"><input class=\"sk-toggleable__control sk-hidden--visually\" id=\"sk-estimator-id-1\" type=\"checkbox\" checked><label for=\"sk-estimator-id-1\" class=\"sk-toggleable__label sk-toggleable__label-arrow\">RandomForestClassifier</label><div class=\"sk-toggleable__content\"><pre>RandomForestClassifier(random_state=42)</pre></div></div></div></div></div>"
      ],
      "text/plain": [
       "RandomForestClassifier(random_state=42)"
      ]
     },
     "execution_count": 3,
     "metadata": {},
     "output_type": "execute_result"
    }
   ],
   "source": [
    "# Creating DataFrame from the dummy dataset\n",
    "df = pd.DataFrame(data)\n",
    "\n",
    "# Converting data to numpy arrays\n",
    "X = df[['vegetarian', 'gluten_free', 'fast_food', 'immersive_theme', 'lively_atmosphere']].values\n",
    "y = df['label'].values\n",
    "\n",
    "# Training Random Forest Classifier\n",
    "clf = RandomForestClassifier(n_estimators=100, random_state=42)\n",
    "clf.fit(X, y)\n"
   ]
  },
  {
   "cell_type": "code",
   "execution_count": 4,
   "metadata": {},
   "outputs": [],
   "source": [
    "# Function to get recommendation based on user input\n",
    "def get_recommendation():\n",
    "    user_requirements = [\n",
    "        vegetarian_var.get(),\n",
    "        gluten_free_var.get(),\n",
    "        fast_food_var.get(),\n",
    "        immersive_theme_var.get(),\n",
    "        lively_atmosphere_var.get()\n",
    "    ]\n",
    "    prediction = clf.predict([user_requirements])\n",
    "    recommendation_label.config(text=\"Recommended Restaurant: \" + prediction[0])"
   ]
  },
  {
   "cell_type": "code",
   "execution_count": 20,
   "metadata": {},
   "outputs": [],
   "source": [
    "# Creating GUI window\n",
    "root = tk.Tk()\n",
    "root.title(\"Disneyland Restaurant Recommendation\")\n",
    "root.geometry(\"400x250\")\n",
    "\n",
    "# Add background image\n",
    "background_image = tk.PhotoImage(file=\"disney_background.png\")\n",
    "background_label = tk.Label(root, image=background_image)\n",
    "background_label.place(x=0, y=0, relwidth=1, relheight=1)\n",
    "\n",
    "# Creating input fields\n",
    "vegetarian_var = tk.IntVar()\n",
    "gluten_free_var = tk.IntVar()\n",
    "fast_food_var = tk.IntVar()\n",
    "immersive_theme_var = tk.IntVar()\n",
    "lively_atmosphere_var = tk.IntVar()\n",
    "\n",
    "# Create a custom style for checkboxes with larger font size\n",
    "checkbox_style = ttk.Style()\n",
    "checkbox_style.configure(\"Large.TCheckbutton\", font=(\"Arial\", 14))  # Adjust the font size as needed\n",
    "\n",
    "# Creating checkboxes with custom style\n",
    "vegetarian_checkbox = ttk.Checkbutton(root, text=\"Vegetarian\", variable=vegetarian_var, style=\"Large.TCheckbutton\")\n",
    "vegetarian_checkbox.grid(row=0, column=0, sticky=\"w\")\n",
    "\n",
    "gluten_free_checkbox = ttk.Checkbutton(root, text=\"Gluten Free\", variable=gluten_free_var, style=\"Large.TCheckbutton\")\n",
    "gluten_free_checkbox.grid(row=1, column=0, sticky=\"w\")\n",
    "\n",
    "fast_food_checkbox = ttk.Checkbutton(root, text=\"Fast Food\", variable=fast_food_var, style=\"Large.TCheckbutton\")\n",
    "fast_food_checkbox.grid(row=2, column=0, sticky=\"w\")\n",
    "\n",
    "immersive_theme_checkbox = ttk.Checkbutton(root, text=\"Immersive Theme\", variable=immersive_theme_var, style=\"Large.TCheckbutton\")\n",
    "immersive_theme_checkbox.grid(row=3, column=0, sticky=\"w\")\n",
    "\n",
    "lively_atmosphere_checkbox = ttk.Checkbutton(root, text=\"Lively Atmosphere\", variable=lively_atmosphere_var, style=\"Large.TCheckbutton\")\n",
    "lively_atmosphere_checkbox.grid(row=4, column=0, sticky=\"w\")\n",
    "\n",
    "# Creating recommendation button\n",
    "recommend_button = ttk.Button(root, text=\"Get Recommendation\", command=get_recommendation)\n",
    "recommend_button.grid(row=5, columnspan=2)\n",
    "\n",
    "# Creating label to display recommendation\n",
    "recommendation_label = ttk.Label(root, text=\"\")\n",
    "recommendation_label.grid(row=6, columnspan=2)\n",
    "\n",
    "\n",
    "root.mainloop()\n"
   ]
  },
  {
   "cell_type": "code",
   "execution_count": null,
   "metadata": {},
   "outputs": [],
   "source": []
  },
  {
   "cell_type": "code",
   "execution_count": null,
   "metadata": {},
   "outputs": [],
   "source": []
  }
 ],
 "metadata": {
  "kernelspec": {
   "display_name": "base",
   "language": "python",
   "name": "python3"
  },
  "language_info": {
   "codemirror_mode": {
    "name": "ipython",
    "version": 3
   },
   "file_extension": ".py",
   "mimetype": "text/x-python",
   "name": "python",
   "nbconvert_exporter": "python",
   "pygments_lexer": "ipython3",
   "version": "3.11.4"
  }
 },
 "nbformat": 4,
 "nbformat_minor": 2
}
